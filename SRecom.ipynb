{
 "cells": [
  {
   "cell_type": "code",
   "execution_count": 1,
   "id": "495754dc",
   "metadata": {},
   "outputs": [],
   "source": [
    "import pandas as pd\n",
    "from urllib import request\n",
    "\n",
    "\n",
    "data = request.urlopen('https://storage.googleapis.com/maps-premium/dataset/yes_complete/train.txt')\n",
    "\n",
    "\n",
    "lines = data.read().decode(\"utf-8\").split('\\n')[2:]\n",
    "\n",
    "\n",
    "playlists = [s.rstrip().split() for s in lines if len(s.split()) > 1]\n",
    "\n",
    "\n",
    "songs_file = request.urlopen('https://storage.googleapis.com/maps-premium/dataset/yes_complete/song_hash.txt')\n",
    "songs_file = songs_file.read().decode(\"utf-8\").split('\\n')\n",
    "songs = [s.rstrip().split('\\t') for s in songs_file]\n",
    "songs_df = pd.DataFrame(data=songs, columns = ['id', 'title', 'artist'])\n",
    "songs_df = songs_df.set_index('id')\n"
   ]
  },
  {
   "cell_type": "code",
   "execution_count": null,
   "id": "48b2fa3a",
   "metadata": {},
   "outputs": [],
   "source": [
    "from gensim.models import Word2Vec\n",
    "\n",
    "\n",
    "model = Word2Vec(\n",
    "    playlists,\n",
    "    vector_size=64,        # Increased from 32 to 64\n",
    "    window=15,             # Optimized window size\n",
    "    min_count=2,           # Filter rare songs for better quality\n",
    "    negative=20,           # Better negative sampling (reduced from 50)\n",
    "    workers=4,\n",
    "    epochs=20,             # More training epochs\n",
    "    sg=1,                  # Skip-gram model (1 = Skip-gram, 0 = CBOW)\n",
    "    alpha=0.025,           # Learning rate\n",
    "    min_alpha=0.0001       # Minimum learning rate\n",
    ")\n"
   ]
  },
  {
   "cell_type": "code",
   "execution_count": null,
   "id": "ecc22c19",
   "metadata": {},
   "outputs": [],
   "source": [
    "print(songs_df.iloc[2172])"
   ]
  },
  {
   "cell_type": "code",
   "execution_count": null,
   "id": "2a0d95d5",
   "metadata": {},
   "outputs": [],
   "source": [
    "import numpy as np\n",
    "def print_recommendations(song_id):\n",
    "  similar_songs = np.array(\n",
    "      model.wv.most_similar(positive=str(song_id),topn=5)\n",
    "  )[:,0]\n",
    "  return songs_df.loc[similar_songs]\n",
    "print_recommendations(2172)\n"
   ]
  }
 ],
 "metadata": {
  "kernelspec": {
   "display_name": "Python 3",
   "language": "python",
   "name": "python3"
  },
  "language_info": {
   "codemirror_mode": {
    "name": "ipython",
    "version": 3
   },
   "file_extension": ".py",
   "mimetype": "text/x-python",
   "name": "python",
   "nbconvert_exporter": "python",
   "pygments_lexer": "ipython3",
   "version": "3.13.0"
  }
 },
 "nbformat": 4,
 "nbformat_minor": 5
}
